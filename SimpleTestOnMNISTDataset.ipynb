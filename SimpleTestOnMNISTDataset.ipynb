{
  "nbformat": 4,
  "nbformat_minor": 0,
  "metadata": {
    "colab": {
      "name": "Untitled1.ipynb",
      "version": "0.3.2",
      "provenance": [],
      "include_colab_link": true
    },
    "kernelspec": {
      "name": "python3",
      "display_name": "Python 3"
    }
  },
  "cells": [
    {
      "cell_type": "markdown",
      "metadata": {
        "id": "view-in-github",
        "colab_type": "text"
      },
      "source": [
        "<a href=\"https://colab.research.google.com/github/ntyulenev/machine-learning/blob/master/SimpleTestOnMNISTDataset.ipynb\" target=\"_parent\"><img src=\"https://colab.research.google.com/assets/colab-badge.svg\" alt=\"Open In Colab\"/></a>"
      ]
    },
    {
      "metadata": {
        "id": "3iyaVbuxExX5",
        "colab_type": "code",
        "colab": {
          "base_uri": "https://localhost:8080/",
          "height": 416
        },
        "outputId": "e1c1ef1e-52df-43e8-a49d-f63618d8a2a1"
      },
      "cell_type": "code",
      "source": [
        "from __future__ import absolute_import, division, print_function, unicode_literals\n",
        "\n",
        "# import tensorflow library\n",
        "import tensorflow as tf\n",
        "mnist = tf.keras.datasets.mnist\n",
        "\n",
        "# loading data from the MNIST database\n",
        "(x_train, y_train), (x_test, y_test) = mnist.load_data()\n",
        "x_train, x_test = x_train / 255.0, x_test / 255.0\n",
        "\n",
        "import matplotlib.pyplot as plt\n",
        "%matplotlib inline \n",
        "\n",
        "model = tf.keras.models.Sequential([\n",
        "  tf.keras.layers.Flatten(input_shape=(28, 28)),\n",
        "  tf.keras.layers.Dense(512, activation=tf.nn.relu),\n",
        "  tf.keras.layers.Dropout(0.2),\n",
        "  tf.keras.layers.Dense(10, activation=tf.nn.softmax)\n",
        "])\n",
        "\n",
        "model.compile(optimizer='adam',\n",
        "              loss='sparse_categorical_crossentropy',\n",
        "              metrics=['accuracy'])\n",
        "\n",
        "model.fit(x_train, y_train, epochs=1)\n",
        "print('Testing on the MNIST x_test dataset')\n",
        "res = model.evaluate(x_test, y_test)\n",
        "print('Recognition accuracy: %d%%' % (res[1] * 100))\n",
        "\n",
        "print('')\n",
        "# ||||||||| change index between 0...9999 to test exact sample image\n",
        "# VVVVVVVVV\n",
        "image_index = 1234 # index\n",
        "print('Try to recognize digit by index: %d' % image_index)\n",
        "print('Digit: %d' % y_test[image_index]) \n",
        "plt.imshow(x_test[image_index], cmap='Greys')\n",
        "\n",
        "pred = model.predict(x_test[image_index].reshape(1, 28, 28))\n",
        "print('Recognized as: %d' % pred.argmax())"
      ],
      "execution_count": 52,
      "outputs": [
        {
          "output_type": "stream",
          "text": [
            "60000/60000 [==============================] - 18s 294us/sample - loss: 0.2206 - acc: 0.9343\n",
            "Testing on the MNIST x_test dataset\n",
            "10000/10000 [==============================] - 1s 126us/sample - loss: 0.1038 - acc: 0.9681\n",
            "Recognition accuracy: 96%\n",
            "\n",
            "Try to recognize digit by index: 1234\n",
            "Digit: 8\n",
            "Recognized as: 8\n"
          ],
          "name": "stdout"
        },
        {
          "output_type": "display_data",
          "data": {
            "image/png": "[encoded data removed]",
            "text/plain": [
              "<Figure size 432x288 with 1 Axes>"
            ]
          },
          "metadata": {
            "tags": []
          }
        }
      ]
    }
  ]
}